{
 "cells": [
  {
   "cell_type": "code",
   "execution_count": 1,
   "id": "5640305c",
   "metadata": {},
   "outputs": [],
   "source": [
    "import numpy as np\n",
    "import pandas as pd\n",
    "import cython\n",
    "import os\n",
    "import re\n",
    "import json\n",
    "from bs4 import BeautifulSoup\n",
    "from multiprocessing import Pool\n",
    "from pandarallel import pandarallel"
   ]
  },
  {
   "cell_type": "code",
   "execution_count": 2,
   "id": "074c918a",
   "metadata": {},
   "outputs": [],
   "source": [
    "os.chdir('/mnt/d/workspace/8-2/Financial-Statements-Text-Analysis/')"
   ]
  },
  {
   "cell_type": "code",
   "execution_count": 3,
   "id": "8144dbbf",
   "metadata": {},
   "outputs": [],
   "source": [
    "# params\n",
    "with open('config.json', 'r') as f:\n",
    "    c = json.load(f)\n",
    "input_dir = os.path.join(c['DATA_DIR'], '10k_clean')\n",
    "# destination_dir = os.path.join(c['DATA_DIR'], '10k_clean')"
   ]
  },
  {
   "cell_type": "markdown",
   "id": "1be9c249",
   "metadata": {},
   "source": [
    "# read processed 10-Ks in"
   ]
  },
  {
   "cell_type": "code",
   "execution_count": 4,
   "id": "57c15998",
   "metadata": {},
   "outputs": [],
   "source": [
    "metadata = pd.read_csv(os.path.join(c['DATA_DIR'], 'metadata.csv'))\n",
    "metadata_legacy = pd.read_csv(os.path.join(c['DATA_DIR'], 'metadata_2017.csv'))\n",
    "\n",
    "# only download the data from russell 3000 today\n",
    "metadata = metadata_legacy[metadata_legacy['TICKER'].isin(metadata['ticker'])]"
   ]
  },
  {
   "cell_type": "code",
   "execution_count": 5,
   "id": "1ea13d36",
   "metadata": {},
   "outputs": [
    {
     "name": "stderr",
     "output_type": "stream",
     "text": [
      "/tmp/ipykernel_11501/1550976992.py:1: SettingWithCopyWarning: \n",
      "A value is trying to be set on a copy of a slice from a DataFrame.\n",
      "Try using .loc[row_indexer,col_indexer] = value instead\n",
      "\n",
      "See the caveats in the documentation: https://pandas.pydata.org/pandas-docs/stable/user_guide/indexing.html#returning-a-view-versus-a-copy\n",
      "  metadata['LOCAL_LINK'] = input_dir + '/' + metadata['TICKER'] + '/' + metadata['EDGAR_LINK'].str.split(\"/\").str[-1]\n"
     ]
    }
   ],
   "source": [
    "metadata['LOCAL_LINK'] = input_dir + '/' + metadata['TICKER'] + '/' + metadata['EDGAR_LINK'].str.split(\"/\").str[-1]"
   ]
  },
  {
   "cell_type": "code",
   "execution_count": 6,
   "id": "944fb3d5",
   "metadata": {},
   "outputs": [
    {
     "name": "stdout",
     "output_type": "stream",
     "text": [
      "618 ms ± 20.2 ms per loop (mean ± std. dev. of 7 runs, 1 loop each)\n"
     ]
    }
   ],
   "source": [
    "%%timeit\n",
    "\n",
    "for i in range(100):\n",
    "    pd.read_csv(metadata.iloc[i]['LOCAL_LINK'])"
   ]
  },
  {
   "cell_type": "code",
   "execution_count": 7,
   "id": "4b3b9799",
   "metadata": {},
   "outputs": [
    {
     "name": "stdout",
     "output_type": "stream",
     "text": [
      "350 ms ± 16.5 ms per loop (mean ± std. dev. of 7 runs, 1 loop each)\n"
     ]
    }
   ],
   "source": [
    "%%timeit \n",
    "links = [metadata.iloc[i]['LOCAL_LINK'] for i in range(100)]\n",
    "\n",
    "with Pool(processes=4) as pool:\n",
    "    pool.map(pd.read_csv, links)"
   ]
  },
  {
   "cell_type": "code",
   "execution_count": 11,
   "id": "7e8e64d9",
   "metadata": {},
   "outputs": [],
   "source": [
    "def read_csv_wrapper(i):\n",
    "    try:\n",
    "        row = metadata.iloc[i]\n",
    "        path = row['LOCAL_LINK']\n",
    "        ticker = row['TICKER']\n",
    "        \n",
    "        df = pd.read_csv(path)\n",
    "        df['ticker'] = ticker\n",
    "        df['path'] = path\n",
    "        df['filing_date'] = row['DATE_FILED']\n",
    "        return df\n",
    "    except:\n",
    "        # some were unable to read because the parse failed \n",
    "        return pd.DataFrame()\n",
    "\n",
    "with Pool(processes=16) as pool:\n",
    "    dfs = pool.map(read_csv_wrapper, range(len(metadata)))\n",
    "    \n",
    "df = pd.concat(dfs)\n",
    "# filter out failed reads\n",
    "df = df[~df['text'].isnull()]\n",
    "\n",
    "# order the df\n",
    "df = df.sort_values(['ticker', 'item', 'filing_date'])\n",
    "df['index'] = np.arange(len(df))\n",
    "df['lead_index'] = df.groupby(['ticker', 'item'])['index'].shift(-1)"
   ]
  },
  {
   "cell_type": "markdown",
   "id": "e1fe6f05",
   "metadata": {},
   "source": [
    "# Text cleaning"
   ]
  },
  {
   "cell_type": "code",
   "execution_count": 12,
   "id": "d1f17eba",
   "metadata": {},
   "outputs": [
    {
     "name": "stdout",
     "output_type": "stream",
     "text": [
      "4 s ± 183 ms per loop (mean ± std. dev. of 7 runs, 1 loop each)\n"
     ]
    }
   ],
   "source": [
    "%%timeit\n",
    "df.head(1000)['text'].str.replace('\\W', ' ', regex=True)\\\n",
    "    .str.lower()\\\n",
    "    .str.split()\\\n",
    "    .str.join(' ')"
   ]
  },
  {
   "cell_type": "code",
   "execution_count": 13,
   "id": "58b15f46",
   "metadata": {},
   "outputs": [],
   "source": [
    "def clean_string(s):\n",
    "    s = re.sub('\\W', ' ', s)\n",
    "    s = s.lower()\n",
    "    s = re.sub(' +', ' ', s)\n",
    "    return s"
   ]
  },
  {
   "cell_type": "code",
   "execution_count": 14,
   "id": "c07b5f2c",
   "metadata": {},
   "outputs": [
    {
     "name": "stdout",
     "output_type": "stream",
     "text": [
      "5.92 s ± 341 ms per loop (mean ± std. dev. of 7 runs, 1 loop each)\n"
     ]
    }
   ],
   "source": [
    "%%timeit\n",
    "df.head(1000)['text'].apply(clean_string)"
   ]
  },
  {
   "cell_type": "code",
   "execution_count": 15,
   "id": "cc85da6b",
   "metadata": {},
   "outputs": [],
   "source": [
    "pandarallel.initialize(progress_bar=True, nb_workers=16, verbose=0)"
   ]
  },
  {
   "cell_type": "code",
   "execution_count": 16,
   "id": "ac23acff",
   "metadata": {},
   "outputs": [
    {
     "data": {
      "application/vnd.jupyter.widget-view+json": {
       "model_id": "b65ad02e0e254d51b4c99791e99b1ee9",
       "version_major": 2,
       "version_minor": 0
      },
      "text/plain": [
       "VBox(children=(HBox(children=(IntProgress(value=0, description='0.00%', max=63), Label(value='0 / 63'))), HBox…"
      ]
     },
     "metadata": {},
     "output_type": "display_data"
    },
    {
     "data": {
      "application/vnd.jupyter.widget-view+json": {
       "model_id": "c90b1679ae2a4a7fb2e82e91d52ad8e2",
       "version_major": 2,
       "version_minor": 0
      },
      "text/plain": [
       "VBox(children=(HBox(children=(IntProgress(value=0, description='0.00%', max=63), Label(value='0 / 63'))), HBox…"
      ]
     },
     "metadata": {},
     "output_type": "display_data"
    },
    {
     "data": {
      "application/vnd.jupyter.widget-view+json": {
       "model_id": "02fd1554c54448cbad62e27c00d78741",
       "version_major": 2,
       "version_minor": 0
      },
      "text/plain": [
       "VBox(children=(HBox(children=(IntProgress(value=0, description='0.00%', max=63), Label(value='0 / 63'))), HBox…"
      ]
     },
     "metadata": {},
     "output_type": "display_data"
    },
    {
     "data": {
      "application/vnd.jupyter.widget-view+json": {
       "model_id": "45392bad97b34e4ba17748adebe3baf1",
       "version_major": 2,
       "version_minor": 0
      },
      "text/plain": [
       "VBox(children=(HBox(children=(IntProgress(value=0, description='0.00%', max=63), Label(value='0 / 63'))), HBox…"
      ]
     },
     "metadata": {},
     "output_type": "display_data"
    },
    {
     "data": {
      "application/vnd.jupyter.widget-view+json": {
       "model_id": "f3be6a1707ca421fbbd0b9ab910bc47e",
       "version_major": 2,
       "version_minor": 0
      },
      "text/plain": [
       "VBox(children=(HBox(children=(IntProgress(value=0, description='0.00%', max=63), Label(value='0 / 63'))), HBox…"
      ]
     },
     "metadata": {},
     "output_type": "display_data"
    },
    {
     "data": {
      "application/vnd.jupyter.widget-view+json": {
       "model_id": "64521922ca9345d8a60a39eed0458a01",
       "version_major": 2,
       "version_minor": 0
      },
      "text/plain": [
       "VBox(children=(HBox(children=(IntProgress(value=0, description='0.00%', max=63), Label(value='0 / 63'))), HBox…"
      ]
     },
     "metadata": {},
     "output_type": "display_data"
    },
    {
     "data": {
      "application/vnd.jupyter.widget-view+json": {
       "model_id": "707c551bc3ce46c3a19fb47f2f2add36",
       "version_major": 2,
       "version_minor": 0
      },
      "text/plain": [
       "VBox(children=(HBox(children=(IntProgress(value=0, description='0.00%', max=63), Label(value='0 / 63'))), HBox…"
      ]
     },
     "metadata": {},
     "output_type": "display_data"
    },
    {
     "data": {
      "application/vnd.jupyter.widget-view+json": {
       "model_id": "06da6b4ebca44325ab8be61dcafcb381",
       "version_major": 2,
       "version_minor": 0
      },
      "text/plain": [
       "VBox(children=(HBox(children=(IntProgress(value=0, description='0.00%', max=63), Label(value='0 / 63'))), HBox…"
      ]
     },
     "metadata": {},
     "output_type": "display_data"
    },
    {
     "name": "stdout",
     "output_type": "stream",
     "text": [
      "2.18 s ± 272 ms per loop (mean ± std. dev. of 7 runs, 1 loop each)\n"
     ]
    }
   ],
   "source": [
    "%%timeit\n",
    "df.head(1000)['text'].parallel_apply(clean_string)"
   ]
  },
  {
   "cell_type": "code",
   "execution_count": 17,
   "id": "ebbcc1b4",
   "metadata": {},
   "outputs": [
    {
     "data": {
      "application/vnd.jupyter.widget-view+json": {
       "model_id": "e1fe8a821eae40ecb7adc4b619e36c3d",
       "version_major": 2,
       "version_minor": 0
      },
      "text/plain": [
       "VBox(children=(HBox(children=(IntProgress(value=0, description='0.00%', max=1556), Label(value='0 / 1556'))), …"
      ]
     },
     "metadata": {},
     "output_type": "display_data"
    }
   ],
   "source": [
    "df['text'] = df['text'].parallel_apply(clean_string)"
   ]
  },
  {
   "cell_type": "markdown",
   "id": "9ab0bf5c",
   "metadata": {},
   "source": [
    "# transform to tfidf"
   ]
  },
  {
   "cell_type": "code",
   "execution_count": 18,
   "id": "91c8f5d2",
   "metadata": {},
   "outputs": [],
   "source": [
    "from sklearn.feature_extraction.text import TfidfVectorizer, CountVectorizer"
   ]
  },
  {
   "cell_type": "code",
   "execution_count": 42,
   "id": "83154bd1",
   "metadata": {},
   "outputs": [],
   "source": [
    "comparison_df = df[~df['lead_index'].isnull()].copy()\n",
    "comparison_df['lead_index'] = comparison_df['lead_index'].astype(int)"
   ]
  },
  {
   "cell_type": "code",
   "execution_count": 30,
   "id": "21f0490d",
   "metadata": {},
   "outputs": [],
   "source": [
    "vectorizer = TfidfVectorizer()\n",
    "\n",
    "tfidf = vectorizer.fit_transform(comparison_df['text'])"
   ]
  },
  {
   "cell_type": "markdown",
   "id": "350928d0",
   "metadata": {},
   "source": [
    "# perform cosine distance computation"
   ]
  },
  {
   "cell_type": "code",
   "execution_count": 31,
   "id": "55017115",
   "metadata": {},
   "outputs": [],
   "source": [
    "from sklearn.metrics.pairwise import cosine_similarity"
   ]
  },
  {
   "cell_type": "code",
   "execution_count": 37,
   "id": "9c1959cb",
   "metadata": {},
   "outputs": [
    {
     "name": "stdout",
     "output_type": "stream",
     "text": [
      "885 ms ± 190 ms per loop (mean ± std. dev. of 7 runs, 1 loop each)\n"
     ]
    }
   ],
   "source": [
    "%%timeit\n",
    "cosine_similarity(tfidf[:1000], tfidf[:1000])"
   ]
  },
  {
   "cell_type": "code",
   "execution_count": 39,
   "id": "f7c53748",
   "metadata": {},
   "outputs": [
    {
     "name": "stdout",
     "output_type": "stream",
     "text": [
      "3.01 s ± 171 ms per loop (mean ± std. dev. of 7 runs, 1 loop each)\n"
     ]
    }
   ],
   "source": [
    "%%timeit\n",
    "cosine_similarity(tfidf[:2000], tfidf[:2000])"
   ]
  },
  {
   "cell_type": "code",
   "execution_count": 90,
   "id": "8403760a",
   "metadata": {},
   "outputs": [
    {
     "name": "stdout",
     "output_type": "stream",
     "text": [
      "85.2 ms ± 6.32 ms per loop (mean ± std. dev. of 7 runs, 10 loops each)\n"
     ]
    }
   ],
   "source": [
    "%%timeit\n",
    "(tfidf[:999].multiply(tfidf[1:1000]).sum(axis=1) / \\\n",
    "     np.sqrt(tfidf[:999].multiply(tfidf[:999]).sum(axis=1)) / np.sqrt(tfidf[1:1000].multiply(tfidf[1:1000]).sum(axis=1)))"
   ]
  },
  {
   "cell_type": "code",
   "execution_count": 91,
   "id": "902a6bf4",
   "metadata": {},
   "outputs": [
    {
     "name": "stdout",
     "output_type": "stream",
     "text": [
      "161 ms ± 10.1 ms per loop (mean ± std. dev. of 7 runs, 1 loop each)\n"
     ]
    }
   ],
   "source": [
    "%%timeit\n",
    "(tfidf[:1999].multiply(tfidf[1:2000]).sum(axis=1) / \\\n",
    "     np.sqrt(tfidf[:1999].multiply(tfidf[:1999]).sum(axis=1)) / np.sqrt(tfidf[1:2000].multiply(tfidf[1:2000]).sum(axis=1)))"
   ]
  },
  {
   "cell_type": "code",
   "execution_count": 93,
   "id": "f8918998",
   "metadata": {},
   "outputs": [
    {
     "name": "stdout",
     "output_type": "stream",
     "text": [
      "1.58 s ± 49.4 ms per loop (mean ± std. dev. of 7 runs, 1 loop each)\n"
     ]
    }
   ],
   "source": [
    "%%timeit\n",
    "(tfidf[:-1].multiply(tfidf[1:]).sum(axis=1) / \\\n",
    "     np.sqrt(tfidf[:-1].multiply(tfidf[:-1]).sum(axis=1)) / np.sqrt(tfidf[1:].multiply(tfidf[1:]).sum(axis=1)))"
   ]
  },
  {
   "cell_type": "code",
   "execution_count": 92,
   "id": "1e360795",
   "metadata": {},
   "outputs": [
    {
     "data": {
      "text/plain": [
       "matrix([[0.98227666],\n",
       "        [0.99666753],\n",
       "        [0.58170126],\n",
       "        ...,\n",
       "        [0.56405527],\n",
       "        [0.93125178],\n",
       "        [0.94108083]])"
      ]
     },
     "execution_count": 92,
     "metadata": {},
     "output_type": "execute_result"
    }
   ],
   "source": [
    "(tfidf[:-1].multiply(tfidf[1:]).sum(axis=1) / \\\n",
    "     np.sqrt(tfidf[:-1].multiply(tfidf[:-1]).sum(axis=1)) / np.sqrt(tfidf[1:].multiply(tfidf[1:]).sum(axis=1)))"
   ]
  },
  {
   "cell_type": "code",
   "execution_count": 95,
   "id": "ecdf6fb8",
   "metadata": {},
   "outputs": [
    {
     "data": {
      "text/plain": [
       "(18301, 88229)"
      ]
     },
     "execution_count": 95,
     "metadata": {},
     "output_type": "execute_result"
    }
   ],
   "source": [
    "tfidf.shape"
   ]
  },
  {
   "cell_type": "code",
   "execution_count": null,
   "id": "8a97a697",
   "metadata": {},
   "outputs": [],
   "source": []
  }
 ],
 "metadata": {
  "kernelspec": {
   "display_name": "Python 3 (ipykernel)",
   "language": "python",
   "name": "python3"
  },
  "language_info": {
   "codemirror_mode": {
    "name": "ipython",
    "version": 3
   },
   "file_extension": ".py",
   "mimetype": "text/x-python",
   "name": "python",
   "nbconvert_exporter": "python",
   "pygments_lexer": "ipython3",
   "version": "3.10.10"
  }
 },
 "nbformat": 4,
 "nbformat_minor": 5
}
