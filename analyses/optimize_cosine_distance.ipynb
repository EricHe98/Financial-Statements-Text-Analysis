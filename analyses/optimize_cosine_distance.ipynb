{
 "cells": [
  {
   "cell_type": "code",
   "execution_count": 1,
   "id": "c368e96a",
   "metadata": {},
   "outputs": [],
   "source": [
    "import numpy as np\n",
    "import pandas as pd\n",
    "import cython\n",
    "import os\n",
    "import re\n",
    "import json\n",
    "from bs4 import BeautifulSoup\n",
    "from multiprocessing import Pool\n",
    "from pandarallel import pandarallel"
   ]
  },
  {
   "cell_type": "code",
   "execution_count": 2,
   "id": "08c2d5c3",
   "metadata": {},
   "outputs": [],
   "source": [
    "os.chdir('/mnt/d/workspace/8-2/Financial-Statements-Text-Analysis/')"
   ]
  },
  {
   "cell_type": "code",
   "execution_count": 3,
   "id": "d8956540",
   "metadata": {},
   "outputs": [],
   "source": [
    "# params\n",
    "with open('config.json', 'r') as f:\n",
    "    c = json.load(f)\n",
    "input_dir = os.path.join(c['DATA_DIR'], '10k_clean')\n",
    "# destination_dir = os.path.join(c['DATA_DIR'], '10k_clean')"
   ]
  },
  {
   "cell_type": "markdown",
   "id": "17fce8d0",
   "metadata": {},
   "source": [
    "# read processed 10-Ks in"
   ]
  },
  {
   "cell_type": "code",
   "execution_count": 4,
   "id": "fcf58017",
   "metadata": {},
   "outputs": [],
   "source": [
    "metadata = pd.read_csv(os.path.join(c['DATA_DIR'], 'metadata.csv'))\n",
    "metadata_legacy = pd.read_csv(os.path.join(c['DATA_DIR'], 'metadata_2017.csv'))\n",
    "\n",
    "# only download the data from russell 3000 today\n",
    "metadata = metadata_legacy[metadata_legacy['TICKER'].isin(metadata['ticker'])]"
   ]
  },
  {
   "cell_type": "code",
   "execution_count": 5,
   "id": "8307ff86",
   "metadata": {},
   "outputs": [
    {
     "name": "stderr",
     "output_type": "stream",
     "text": [
      "/tmp/ipykernel_11501/1550976992.py:1: SettingWithCopyWarning: \n",
      "A value is trying to be set on a copy of a slice from a DataFrame.\n",
      "Try using .loc[row_indexer,col_indexer] = value instead\n",
      "\n",
      "See the caveats in the documentation: https://pandas.pydata.org/pandas-docs/stable/user_guide/indexing.html#returning-a-view-versus-a-copy\n",
      "  metadata['LOCAL_LINK'] = input_dir + '/' + metadata['TICKER'] + '/' + metadata['EDGAR_LINK'].str.split(\"/\").str[-1]\n"
     ]
    }
   ],
   "source": [
    "metadata['LOCAL_LINK'] = input_dir + '/' + metadata['TICKER'] + '/' + metadata['EDGAR_LINK'].str.split(\"/\").str[-1]"
   ]
  },
  {
   "cell_type": "code",
   "execution_count": 6,
   "id": "415c6863",
   "metadata": {},
   "outputs": [
    {
     "name": "stdout",
     "output_type": "stream",
     "text": [
      "618 ms ± 20.2 ms per loop (mean ± std. dev. of 7 runs, 1 loop each)\n"
     ]
    }
   ],
   "source": [
    "%%timeit\n",
    "\n",
    "for i in range(100):\n",
    "    pd.read_csv(metadata.iloc[i]['LOCAL_LINK'])"
   ]
  },
  {
   "cell_type": "code",
   "execution_count": 7,
   "id": "9ec1057b",
   "metadata": {},
   "outputs": [
    {
     "name": "stdout",
     "output_type": "stream",
     "text": [
      "350 ms ± 16.5 ms per loop (mean ± std. dev. of 7 runs, 1 loop each)\n"
     ]
    }
   ],
   "source": [
    "%%timeit \n",
    "links = [metadata.iloc[i]['LOCAL_LINK'] for i in range(100)]\n",
    "\n",
    "with Pool(processes=4) as pool:\n",
    "    pool.map(pd.read_csv, links)"
   ]
  },
  {
   "cell_type": "code",
   "execution_count": 8,
   "id": "59d42489",
   "metadata": {},
   "outputs": [
    {
     "ename": "KeyError",
     "evalue": "'text'",
     "output_type": "error",
     "traceback": [
      "\u001b[0;31m---------------------------------------------------------------------------\u001b[0m",
      "\u001b[0;31mKeyError\u001b[0m                                  Traceback (most recent call last)",
      "Cell \u001b[0;32mIn[8], line 20\u001b[0m\n\u001b[1;32m     17\u001b[0m     dfs \u001b[38;5;241m=\u001b[39m pool\u001b[38;5;241m.\u001b[39mmap(read_csv_wrapper, \u001b[38;5;28mrange\u001b[39m(\u001b[38;5;28mlen\u001b[39m(metadata)))\n\u001b[1;32m     19\u001b[0m df \u001b[38;5;241m=\u001b[39m pd\u001b[38;5;241m.\u001b[39mconcat(dfs)\n\u001b[0;32m---> 20\u001b[0m df \u001b[38;5;241m=\u001b[39m df[\u001b[38;5;241m~\u001b[39m\u001b[43mdf\u001b[49m\u001b[43m[\u001b[49m\u001b[38;5;124;43m'\u001b[39;49m\u001b[38;5;124;43mtext\u001b[39;49m\u001b[38;5;124;43m'\u001b[39;49m\u001b[43m]\u001b[49m\u001b[38;5;241m.\u001b[39misnull()]\n",
      "File \u001b[0;32m~/miniforge3/envs/advancedpython/lib/python3.10/site-packages/pandas/core/frame.py:3761\u001b[0m, in \u001b[0;36mDataFrame.__getitem__\u001b[0;34m(self, key)\u001b[0m\n\u001b[1;32m   3759\u001b[0m \u001b[38;5;28;01mif\u001b[39;00m \u001b[38;5;28mself\u001b[39m\u001b[38;5;241m.\u001b[39mcolumns\u001b[38;5;241m.\u001b[39mnlevels \u001b[38;5;241m>\u001b[39m \u001b[38;5;241m1\u001b[39m:\n\u001b[1;32m   3760\u001b[0m     \u001b[38;5;28;01mreturn\u001b[39;00m \u001b[38;5;28mself\u001b[39m\u001b[38;5;241m.\u001b[39m_getitem_multilevel(key)\n\u001b[0;32m-> 3761\u001b[0m indexer \u001b[38;5;241m=\u001b[39m \u001b[38;5;28;43mself\u001b[39;49m\u001b[38;5;241;43m.\u001b[39;49m\u001b[43mcolumns\u001b[49m\u001b[38;5;241;43m.\u001b[39;49m\u001b[43mget_loc\u001b[49m\u001b[43m(\u001b[49m\u001b[43mkey\u001b[49m\u001b[43m)\u001b[49m\n\u001b[1;32m   3762\u001b[0m \u001b[38;5;28;01mif\u001b[39;00m is_integer(indexer):\n\u001b[1;32m   3763\u001b[0m     indexer \u001b[38;5;241m=\u001b[39m [indexer]\n",
      "File \u001b[0;32m~/miniforge3/envs/advancedpython/lib/python3.10/site-packages/pandas/core/indexes/range.py:349\u001b[0m, in \u001b[0;36mRangeIndex.get_loc\u001b[0;34m(self, key)\u001b[0m\n\u001b[1;32m    347\u001b[0m         \u001b[38;5;28;01mraise\u001b[39;00m \u001b[38;5;167;01mKeyError\u001b[39;00m(key) \u001b[38;5;28;01mfrom\u001b[39;00m \u001b[38;5;21;01merr\u001b[39;00m\n\u001b[1;32m    348\u001b[0m \u001b[38;5;28;01mif\u001b[39;00m \u001b[38;5;28misinstance\u001b[39m(key, Hashable):\n\u001b[0;32m--> 349\u001b[0m     \u001b[38;5;28;01mraise\u001b[39;00m \u001b[38;5;167;01mKeyError\u001b[39;00m(key)\n\u001b[1;32m    350\u001b[0m \u001b[38;5;28mself\u001b[39m\u001b[38;5;241m.\u001b[39m_check_indexing_error(key)\n\u001b[1;32m    351\u001b[0m \u001b[38;5;28;01mraise\u001b[39;00m \u001b[38;5;167;01mKeyError\u001b[39;00m(key)\n",
      "\u001b[0;31mKeyError\u001b[0m: 'text'"
     ]
    }
   ],
   "source": [
    "def read_csv_wrapper(i):\n",
    "    try:\n",
    "        row = metadata.iloc[i]\n",
    "        path = row['LOCAL_LINK']\n",
    "        ticker = row['TICKER']\n",
    "        \n",
    "        df = pd.read_csv(path)\n",
    "        df['ticker'] = ticker\n",
    "        df['path'] = path\n",
    "        df['filing_date'] = row['FILING_DATE']\n",
    "        return df\n",
    "    except:\n",
    "        # some were unable to read because the parse failed \n",
    "        return pd.DataFrame()\n",
    "\n",
    "with Pool(processes=16) as pool:\n",
    "    dfs = pool.map(read_csv_wrapper, range(len(metadata)))\n",
    "    \n",
    "df = pd.concat(dfs)\n",
    "df = df[~df['text'].isnull()]"
   ]
  },
  {
   "cell_type": "markdown",
   "id": "21bdd2b5",
   "metadata": {},
   "source": [
    "# Text cleaning"
   ]
  },
  {
   "cell_type": "code",
   "execution_count": null,
   "id": "7a725ce3",
   "metadata": {},
   "outputs": [],
   "source": [
    "%%timeit\n",
    "df.head(1000)['text'].str.replace('\\W', ' ', regex=True)\\\n",
    "    .str.lower()\\\n",
    "    .str.split()\\\n",
    "    .str.join(' ')"
   ]
  },
  {
   "cell_type": "code",
   "execution_count": null,
   "id": "75c14147",
   "metadata": {},
   "outputs": [],
   "source": [
    "def clean_string(s):\n",
    "    s = re.sub('\\W', ' ', s)\n",
    "    s = s.lower()\n",
    "    s = re.sub(' +', ' ', s)\n",
    "    return s"
   ]
  },
  {
   "cell_type": "code",
   "execution_count": null,
   "id": "0b806e71",
   "metadata": {},
   "outputs": [],
   "source": [
    "%%timeit\n",
    "df.head(1000)['text'].apply(clean_string)"
   ]
  },
  {
   "cell_type": "code",
   "execution_count": null,
   "id": "42f4ceaa",
   "metadata": {},
   "outputs": [],
   "source": [
    "pandarallel.initialize(progress_bar=True, nb_workers=16, verbose=0)"
   ]
  },
  {
   "cell_type": "code",
   "execution_count": null,
   "id": "a263769f",
   "metadata": {},
   "outputs": [],
   "source": [
    "%%timeit\n",
    "df.head(1000)['text'].parallel_apply(clean_string)"
   ]
  },
  {
   "cell_type": "code",
   "execution_count": null,
   "id": "659623a3",
   "metadata": {},
   "outputs": [],
   "source": [
    "df['text'] = df['text'].parallel_apply(clean_string)"
   ]
  },
  {
   "cell_type": "markdown",
   "id": "4e9c0d26",
   "metadata": {},
   "source": [
    "# transform to tfidf"
   ]
  },
  {
   "cell_type": "code",
   "execution_count": null,
   "id": "45636fdb",
   "metadata": {},
   "outputs": [],
   "source": [
    "from sklearn.feature_extraction.text import TfidfVectorizer, CountVectorizer"
   ]
  },
  {
   "cell_type": "code",
   "execution_count": null,
   "id": "f5807909",
   "metadata": {},
   "outputs": [],
   "source": [
    "vectorizer = TfidfVectorizer()\n",
    "\n",
    "tfidf = vectorizer.fit_transform(df['text'])"
   ]
  },
  {
   "cell_type": "code",
   "execution_count": null,
   "id": "69173568",
   "metadata": {},
   "outputs": [],
   "source": [
    "tfidf"
   ]
  },
  {
   "cell_type": "markdown",
   "id": "944b617f",
   "metadata": {},
   "source": [
    "# perform cosine distance computation"
   ]
  },
  {
   "cell_type": "code",
   "execution_count": null,
   "id": "23ae4784",
   "metadata": {},
   "outputs": [],
   "source": [
    "df.sort_values(['ticker', 'item'])"
   ]
  },
  {
   "cell_type": "code",
   "execution_count": null,
   "id": "e8e1b132",
   "metadata": {},
   "outputs": [],
   "source": []
  }
 ],
 "metadata": {
  "kernelspec": {
   "display_name": "Python 3 (ipykernel)",
   "language": "python",
   "name": "python3"
  },
  "language_info": {
   "codemirror_mode": {
    "name": "ipython",
    "version": 3
   },
   "file_extension": ".py",
   "mimetype": "text/x-python",
   "name": "python",
   "nbconvert_exporter": "python",
   "pygments_lexer": "ipython3",
   "version": "3.10.10"
  }
 },
 "nbformat": 4,
 "nbformat_minor": 5
}
