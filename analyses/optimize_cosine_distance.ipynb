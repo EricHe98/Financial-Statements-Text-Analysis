{
 "cells": [
  {
   "cell_type": "code",
   "execution_count": 1,
   "id": "132c0f76",
   "metadata": {},
   "outputs": [],
   "source": [
    "import numpy as np\n",
    "import pandas as pd\n",
    "import cython\n",
    "import os\n",
    "import re\n",
    "import json\n",
    "from bs4 import BeautifulSoup\n",
    "from multiprocessing import Pool\n",
    "from pandarallel import pandarallel"
   ]
  },
  {
   "cell_type": "code",
   "execution_count": 2,
   "id": "fe7c519c",
   "metadata": {},
   "outputs": [],
   "source": [
    "os.chdir('/mnt/d/workspace/8-2/Financial-Statements-Text-Analysis/')"
   ]
  },
  {
   "cell_type": "code",
   "execution_count": 3,
   "id": "5faf2ba9",
   "metadata": {},
   "outputs": [],
   "source": [
    "# params\n",
    "with open('config.json', 'r') as f:\n",
    "    c = json.load(f)\n",
    "input_dir = os.path.join(c['DATA_DIR'], '10k_clean')\n",
    "# destination_dir = os.path.join(c['DATA_DIR'], '10k_clean')"
   ]
  },
  {
   "cell_type": "markdown",
   "id": "40763f7b",
   "metadata": {},
   "source": [
    "# read processed 10-Ks in"
   ]
  },
  {
   "cell_type": "code",
   "execution_count": 4,
   "id": "080d1c05",
   "metadata": {},
   "outputs": [],
   "source": [
    "metadata = pd.read_csv(os.path.join(c['DATA_DIR'], 'metadata.csv'))\n",
    "metadata_legacy = pd.read_csv(os.path.join(c['DATA_DIR'], 'metadata_2017.csv'))\n",
    "\n",
    "# only download the data from russell 3000 today\n",
    "metadata = metadata_legacy[metadata_legacy['TICKER'].isin(metadata['ticker'])]"
   ]
  },
  {
   "cell_type": "code",
   "execution_count": 5,
   "id": "1793c9ca",
   "metadata": {},
   "outputs": [
    {
     "name": "stderr",
     "output_type": "stream",
     "text": [
      "/tmp/ipykernel_14741/1550976992.py:1: SettingWithCopyWarning: \n",
      "A value is trying to be set on a copy of a slice from a DataFrame.\n",
      "Try using .loc[row_indexer,col_indexer] = value instead\n",
      "\n",
      "See the caveats in the documentation: https://pandas.pydata.org/pandas-docs/stable/user_guide/indexing.html#returning-a-view-versus-a-copy\n",
      "  metadata['LOCAL_LINK'] = input_dir + '/' + metadata['TICKER'] + '/' + metadata['EDGAR_LINK'].str.split(\"/\").str[-1]\n"
     ]
    }
   ],
   "source": [
    "metadata['LOCAL_LINK'] = input_dir + '/' + metadata['TICKER'] + '/' + metadata['EDGAR_LINK'].str.split(\"/\").str[-1]"
   ]
  },
  {
   "cell_type": "code",
   "execution_count": 6,
   "id": "99e4069e",
   "metadata": {},
   "outputs": [
    {
     "name": "stdout",
     "output_type": "stream",
     "text": [
      "652 ms ± 19.2 ms per loop (mean ± std. dev. of 7 runs, 1 loop each)\n"
     ]
    }
   ],
   "source": [
    "%%timeit\n",
    "\n",
    "for i in range(100):\n",
    "    pd.read_csv(metadata.iloc[i]['LOCAL_LINK'])"
   ]
  },
  {
   "cell_type": "code",
   "execution_count": 7,
   "id": "fcef961c",
   "metadata": {},
   "outputs": [
    {
     "name": "stdout",
     "output_type": "stream",
     "text": [
      "348 ms ± 14.5 ms per loop (mean ± std. dev. of 7 runs, 1 loop each)\n"
     ]
    }
   ],
   "source": [
    "%%timeit \n",
    "links = [metadata.iloc[i]['LOCAL_LINK'] for i in range(100)]\n",
    "\n",
    "with Pool(processes=4) as pool:\n",
    "    pool.map(pd.read_csv, links)"
   ]
  },
  {
   "cell_type": "code",
   "execution_count": 8,
   "id": "d37cfbf5",
   "metadata": {},
   "outputs": [],
   "source": [
    "def read_csv_wrapper(i):\n",
    "    try:\n",
    "        row = metadata.iloc[i]\n",
    "        path = row['LOCAL_LINK']\n",
    "        ticker = row['TICKER']\n",
    "        \n",
    "        df = pd.read_csv(path)\n",
    "        df['ticker'] = ticker\n",
    "        df['path'] = path\n",
    "        df['filing_date'] = row['DATE_FILED']\n",
    "        return df\n",
    "    except:\n",
    "        # some were unable to read because the parse failed \n",
    "        return pd.DataFrame()\n",
    "\n",
    "with Pool(processes=16) as pool:\n",
    "    dfs = pool.map(read_csv_wrapper, range(len(metadata)))\n",
    "    \n",
    "df = pd.concat(dfs)\n",
    "# filter out failed reads\n",
    "df = df[~df['text'].isnull()]\n",
    "\n",
    "# order the df\n",
    "df = df.sort_values(['ticker', 'item', 'filing_date'])\n",
    "df['index'] = np.arange(len(df))\n",
    "df['lead_index'] = df.groupby(['ticker', 'item'])['index'].shift(-1)"
   ]
  },
  {
   "cell_type": "markdown",
   "id": "adaafe25",
   "metadata": {},
   "source": [
    "# Text cleaning"
   ]
  },
  {
   "cell_type": "code",
   "execution_count": 9,
   "id": "2eceeaf7",
   "metadata": {},
   "outputs": [
    {
     "name": "stdout",
     "output_type": "stream",
     "text": [
      "3.54 s ± 107 ms per loop (mean ± std. dev. of 7 runs, 1 loop each)\n"
     ]
    }
   ],
   "source": [
    "%%timeit\n",
    "df.head(1000)['text'].str.replace('\\W', ' ', regex=True)\\\n",
    "    .str.lower()\\\n",
    "    .str.split()\\\n",
    "    .str.join(' ')"
   ]
  },
  {
   "cell_type": "code",
   "execution_count": 10,
   "id": "5252b875",
   "metadata": {},
   "outputs": [],
   "source": [
    "def clean_string(s):\n",
    "    s = re.sub('\\W', ' ', s)\n",
    "    s = s.lower()\n",
    "    s = re.sub(' +', ' ', s)\n",
    "    return s"
   ]
  },
  {
   "cell_type": "code",
   "execution_count": 11,
   "id": "02b207b2",
   "metadata": {},
   "outputs": [
    {
     "name": "stdout",
     "output_type": "stream",
     "text": [
      "4.95 s ± 106 ms per loop (mean ± std. dev. of 7 runs, 1 loop each)\n"
     ]
    }
   ],
   "source": [
    "%%timeit\n",
    "df.head(1000)['text'].apply(clean_string)"
   ]
  },
  {
   "cell_type": "code",
   "execution_count": 12,
   "id": "9f52d9cb",
   "metadata": {},
   "outputs": [],
   "source": [
    "pandarallel.initialize(progress_bar=True, nb_workers=16, verbose=0)"
   ]
  },
  {
   "cell_type": "code",
   "execution_count": 13,
   "id": "2795ac24",
   "metadata": {},
   "outputs": [
    {
     "data": {
      "application/vnd.jupyter.widget-view+json": {
       "model_id": "f93dfb3050194425b3e4044db2335bc1",
       "version_major": 2,
       "version_minor": 0
      },
      "text/plain": [
       "VBox(children=(HBox(children=(IntProgress(value=0, description='0.00%', max=63), Label(value='0 / 63'))), HBox…"
      ]
     },
     "metadata": {},
     "output_type": "display_data"
    },
    {
     "data": {
      "application/vnd.jupyter.widget-view+json": {
       "model_id": "69aac78a4c5e4ac78beb042cdbd885ae",
       "version_major": 2,
       "version_minor": 0
      },
      "text/plain": [
       "VBox(children=(HBox(children=(IntProgress(value=0, description='0.00%', max=63), Label(value='0 / 63'))), HBox…"
      ]
     },
     "metadata": {},
     "output_type": "display_data"
    },
    {
     "data": {
      "application/vnd.jupyter.widget-view+json": {
       "model_id": "34a10a212d6947bd9e5fae6e7b9ae6d0",
       "version_major": 2,
       "version_minor": 0
      },
      "text/plain": [
       "VBox(children=(HBox(children=(IntProgress(value=0, description='0.00%', max=63), Label(value='0 / 63'))), HBox…"
      ]
     },
     "metadata": {},
     "output_type": "display_data"
    },
    {
     "data": {
      "application/vnd.jupyter.widget-view+json": {
       "model_id": "b30e20a430a94f09915f297066485805",
       "version_major": 2,
       "version_minor": 0
      },
      "text/plain": [
       "VBox(children=(HBox(children=(IntProgress(value=0, description='0.00%', max=63), Label(value='0 / 63'))), HBox…"
      ]
     },
     "metadata": {},
     "output_type": "display_data"
    },
    {
     "data": {
      "application/vnd.jupyter.widget-view+json": {
       "model_id": "1b12fefdd6c549b59540fa0379cf3072",
       "version_major": 2,
       "version_minor": 0
      },
      "text/plain": [
       "VBox(children=(HBox(children=(IntProgress(value=0, description='0.00%', max=63), Label(value='0 / 63'))), HBox…"
      ]
     },
     "metadata": {},
     "output_type": "display_data"
    },
    {
     "data": {
      "application/vnd.jupyter.widget-view+json": {
       "model_id": "e9bcdecccc9d4f578b381875e0c183b0",
       "version_major": 2,
       "version_minor": 0
      },
      "text/plain": [
       "VBox(children=(HBox(children=(IntProgress(value=0, description='0.00%', max=63), Label(value='0 / 63'))), HBox…"
      ]
     },
     "metadata": {},
     "output_type": "display_data"
    },
    {
     "data": {
      "application/vnd.jupyter.widget-view+json": {
       "model_id": "b753ddfc5b604e60a35cae484ea8dc76",
       "version_major": 2,
       "version_minor": 0
      },
      "text/plain": [
       "VBox(children=(HBox(children=(IntProgress(value=0, description='0.00%', max=63), Label(value='0 / 63'))), HBox…"
      ]
     },
     "metadata": {},
     "output_type": "display_data"
    },
    {
     "data": {
      "application/vnd.jupyter.widget-view+json": {
       "model_id": "fde8283eaa0e46a2b63cf68292df1bbb",
       "version_major": 2,
       "version_minor": 0
      },
      "text/plain": [
       "VBox(children=(HBox(children=(IntProgress(value=0, description='0.00%', max=63), Label(value='0 / 63'))), HBox…"
      ]
     },
     "metadata": {},
     "output_type": "display_data"
    },
    {
     "name": "stdout",
     "output_type": "stream",
     "text": [
      "2.34 s ± 106 ms per loop (mean ± std. dev. of 7 runs, 1 loop each)\n"
     ]
    }
   ],
   "source": [
    "%%timeit\n",
    "df.head(1000)['text'].parallel_apply(clean_string)"
   ]
  },
  {
   "cell_type": "code",
   "execution_count": 14,
   "id": "a64c4639",
   "metadata": {},
   "outputs": [
    {
     "data": {
      "application/vnd.jupyter.widget-view+json": {
       "model_id": "dbc5bcd67d9442a0a0f923fb9f513789",
       "version_major": 2,
       "version_minor": 0
      },
      "text/plain": [
       "VBox(children=(HBox(children=(IntProgress(value=0, description='0.00%', max=1556), Label(value='0 / 1556'))), …"
      ]
     },
     "metadata": {},
     "output_type": "display_data"
    }
   ],
   "source": [
    "df['text'] = df['text'].parallel_apply(clean_string)"
   ]
  },
  {
   "cell_type": "markdown",
   "id": "944afb97",
   "metadata": {},
   "source": [
    "# transform to tfidf"
   ]
  },
  {
   "cell_type": "code",
   "execution_count": 15,
   "id": "20c6ee8a",
   "metadata": {},
   "outputs": [],
   "source": [
    "from sklearn.feature_extraction.text import TfidfVectorizer, CountVectorizer"
   ]
  },
  {
   "cell_type": "code",
   "execution_count": 16,
   "id": "da8eb1c8",
   "metadata": {},
   "outputs": [],
   "source": [
    "comparison_df = df[~df['lead_index'].isnull()].copy()\n",
    "comparison_df['lead_index'] = comparison_df['lead_index'].astype(int)"
   ]
  },
  {
   "cell_type": "code",
   "execution_count": 17,
   "id": "efe6a73f",
   "metadata": {},
   "outputs": [],
   "source": [
    "vectorizer = TfidfVectorizer()\n",
    "\n",
    "tfidf = vectorizer.fit_transform(comparison_df['text'])"
   ]
  },
  {
   "cell_type": "markdown",
   "id": "553b3709",
   "metadata": {},
   "source": [
    "# perform cosine distance computation"
   ]
  },
  {
   "cell_type": "code",
   "execution_count": 18,
   "id": "ff680833",
   "metadata": {},
   "outputs": [],
   "source": [
    "from sklearn.metrics.pairwise import cosine_similarity"
   ]
  },
  {
   "cell_type": "code",
   "execution_count": 19,
   "id": "16170ec3",
   "metadata": {},
   "outputs": [
    {
     "name": "stdout",
     "output_type": "stream",
     "text": [
      "742 ms ± 30.5 ms per loop (mean ± std. dev. of 7 runs, 1 loop each)\n"
     ]
    }
   ],
   "source": [
    "%%timeit\n",
    "cosine_similarity(tfidf[:1000], tfidf[:1000])"
   ]
  },
  {
   "cell_type": "code",
   "execution_count": 20,
   "id": "ab05f8f9",
   "metadata": {},
   "outputs": [
    {
     "name": "stdout",
     "output_type": "stream",
     "text": [
      "2.67 s ± 65.1 ms per loop (mean ± std. dev. of 7 runs, 1 loop each)\n"
     ]
    }
   ],
   "source": [
    "%%timeit\n",
    "cosine_similarity(tfidf[:2000], tfidf[:2000])"
   ]
  },
  {
   "cell_type": "code",
   "execution_count": 21,
   "id": "f88154f9",
   "metadata": {},
   "outputs": [
    {
     "name": "stdout",
     "output_type": "stream",
     "text": [
      "76 ms ± 3.31 ms per loop (mean ± std. dev. of 7 runs, 10 loops each)\n"
     ]
    }
   ],
   "source": [
    "%%timeit\n",
    "(tfidf[:999].multiply(tfidf[1:1000]).sum(axis=1) / \\\n",
    "     np.sqrt(tfidf[:999].multiply(tfidf[:999]).sum(axis=1)) / np.sqrt(tfidf[1:1000].multiply(tfidf[1:1000]).sum(axis=1)))"
   ]
  },
  {
   "cell_type": "code",
   "execution_count": 22,
   "id": "b9800088",
   "metadata": {},
   "outputs": [
    {
     "name": "stdout",
     "output_type": "stream",
     "text": [
      "172 ms ± 4.07 ms per loop (mean ± std. dev. of 7 runs, 10 loops each)\n"
     ]
    }
   ],
   "source": [
    "%%timeit\n",
    "(tfidf[:1999].multiply(tfidf[1:2000]).sum(axis=1) / \\\n",
    "     np.sqrt(tfidf[:1999].multiply(tfidf[:1999]).sum(axis=1)) / np.sqrt(tfidf[1:2000].multiply(tfidf[1:2000]).sum(axis=1)))"
   ]
  },
  {
   "cell_type": "code",
   "execution_count": 23,
   "id": "1aae8383",
   "metadata": {},
   "outputs": [
    {
     "name": "stdout",
     "output_type": "stream",
     "text": [
      "1.51 s ± 43.7 ms per loop (mean ± std. dev. of 7 runs, 1 loop each)\n"
     ]
    }
   ],
   "source": [
    "%%timeit\n",
    "(tfidf[:-1].multiply(tfidf[1:]).sum(axis=1) / \\\n",
    "     np.sqrt(tfidf[:-1].multiply(tfidf[:-1]).sum(axis=1)) / np.sqrt(tfidf[1:].multiply(tfidf[1:]).sum(axis=1)))"
   ]
  },
  {
   "cell_type": "code",
   "execution_count": 24,
   "id": "436dca7e",
   "metadata": {},
   "outputs": [
    {
     "data": {
      "text/plain": [
       "matrix([[0.98227666],\n",
       "        [0.99666753],\n",
       "        [0.58170126],\n",
       "        ...,\n",
       "        [0.56405527],\n",
       "        [0.93125178],\n",
       "        [0.94108083]])"
      ]
     },
     "execution_count": 24,
     "metadata": {},
     "output_type": "execute_result"
    }
   ],
   "source": [
    "(tfidf[:-1].multiply(tfidf[1:]).sum(axis=1) / \\\n",
    "     np.sqrt(tfidf[:-1].multiply(tfidf[:-1]).sum(axis=1)) / np.sqrt(tfidf[1:].multiply(tfidf[1:]).sum(axis=1)))"
   ]
  },
  {
   "cell_type": "code",
   "execution_count": 25,
   "id": "9c0a7c7f",
   "metadata": {},
   "outputs": [
    {
     "data": {
      "text/plain": [
       "(18301, 88229)"
      ]
     },
     "execution_count": 25,
     "metadata": {},
     "output_type": "execute_result"
    }
   ],
   "source": [
    "tfidf.shape"
   ]
  },
  {
   "cell_type": "code",
   "execution_count": null,
   "id": "6ebed1f8",
   "metadata": {},
   "outputs": [],
   "source": []
  }
 ],
 "metadata": {
  "kernelspec": {
   "display_name": "Python 3 (ipykernel)",
   "language": "python",
   "name": "python3"
  },
  "language_info": {
   "codemirror_mode": {
    "name": "ipython",
    "version": 3
   },
   "file_extension": ".py",
   "mimetype": "text/x-python",
   "name": "python",
   "nbconvert_exporter": "python",
   "pygments_lexer": "ipython3",
   "version": "3.10.10"
  }
 },
 "nbformat": 4,
 "nbformat_minor": 5
}
